{
  "cells": [
    {
      "cell_type": "markdown",
      "metadata": {
        "id": "view-in-github",
        "colab_type": "text"
      },
      "source": [
        "<a href=\"https://colab.research.google.com/github/A7MED-N3GEH/iti_labs/blob/main/Untitled1.ipynb\" target=\"_parent\"><img src=\"https://colab.research.google.com/assets/colab-badge.svg\" alt=\"Open In Colab\"/></a>"
      ]
    },
    {
      "cell_type": "markdown",
      "source": [
        "Import Libraries\n"
      ],
      "metadata": {
        "id": "qD_oPu49JL3z"
      }
    },
    {
      "cell_type": "code",
      "source": [
        "import numpy as np\n",
        "import pandas as pd"
      ],
      "metadata": {
        "id": "qeYD2i4RJGML"
      },
      "execution_count": 4,
      "outputs": []
    },
    {
      "cell_type": "markdown",
      "source": [
        "### Manual vs NumPy Mean\n",
        "\n",
        "**Given a list of student ages:**  \n",
        "`ages = [18, 21, 20, 19, 22, 23, 20, 21, 22, 19]`\n",
        "\n",
        "- **Compute the mean manually** (using `sum` and `len`).  \n",
        "- **Verify using** `numpy.mean()`.\n"
      ],
      "metadata": {
        "id": "PmmZVn7CJZZk"
      }
    },
    {
      "cell_type": "code",
      "execution_count": 5,
      "metadata": {
        "colab": {
          "base_uri": "https://localhost:8080/"
        },
        "id": "PFSValoAHmfu",
        "outputId": "2a2afecf-38c1-4ed0-fcd7-8977921111ba"
      },
      "outputs": [
        {
          "output_type": "stream",
          "name": "stdout",
          "text": [
            "Manual Mean: 20.5\n",
            "NumPy Mean: 20.5\n"
          ]
        }
      ],
      "source": [
        "\n",
        "arr = [18, 21, 20, 19, 22, 23, 20, 21, 22, 19]\n",
        "\n",
        "mean_manual = sum(arr) / len(arr)\n",
        "print(\"Manual Mean:\", mean_manual)\n",
        "\n",
        "mean_numpy = np.mean(arr)\n",
        "print(\"NumPy Mean:\", mean_numpy)\n"
      ]
    },
    {
      "cell_type": "markdown",
      "metadata": {
        "id": "B--Jhpi_ahzh"
      },
      "source": []
    },
    {
      "cell_type": "markdown",
      "source": [
        "### Median Without Sorting Function\n",
        "\n",
        "**Generate a list of 15 random integers between 10 and 50.**\n",
        "\n",
        "- **Find the median manually** (without using `numpy.median()`).\n",
        "- **Check with NumPy’s** `median`.\n"
      ],
      "metadata": {
        "id": "qjPtcMcmLN9p"
      }
    },
    {
      "cell_type": "code",
      "execution_count": 15,
      "metadata": {
        "colab": {
          "base_uri": "https://localhost:8080/"
        },
        "id": "CNSVwyfPZ6SS",
        "outputId": "2842ff45-3188-4617-a391-9dd5d543d20f"
      },
      "outputs": [
        {
          "output_type": "stream",
          "name": "stdout",
          "text": [
            "36\n",
            "36\n"
          ]
        }
      ],
      "source": [
        "arr = np.random.randint(10, 51, size=15)\n",
        "# print(arr)\n",
        "# using manual median\n",
        "arr_srt = np.sort(arr)\n",
        "print(arr_srt[len(arr_srt) // 2])\n",
        "\n",
        "# using np.median\n",
        "print(int(np.median(arr)))"
      ]
    },
    {
      "cell_type": "markdown",
      "source": [
        "### Range and Data Spread\n",
        "\n",
        "**For the same list above, calculate:**\n",
        "\n",
        "- **Minimum**\n",
        "- **Maximum**\n",
        "- **Range** (`max − min`)\n",
        "\n",
        "*(Both manually and with NumPy)*\n"
      ],
      "metadata": {
        "id": "pZT2ArsTMp6g"
      }
    },
    {
      "cell_type": "code",
      "execution_count": 16,
      "metadata": {
        "colab": {
          "base_uri": "https://localhost:8080/"
        },
        "id": "Va3cMTk4H94L",
        "outputId": "8c5a344c-a655-41ee-c62a-fb505152df5a"
      },
      "outputs": [
        {
          "output_type": "stream",
          "name": "stdout",
          "text": [
            "Manual Min, Max, Range: 10 49 39\n",
            "NumPy Min, Max, Range: 10 49 39\n"
          ]
        }
      ],
      "source": [
        "arr = np.random.randint(10, 51, size=15)\n",
        "mn = min(arr)\n",
        "mx = max(arr)\n",
        "rng = mx - mn\n",
        "print(\"Manual Min, Max, Range:\", mn, mx, rng)\n",
        "# using numpy\n",
        "mn_np = np.min(arr)\n",
        "mx_np = np.max(arr)\n",
        "rng_np = np.ptp(arr)\n",
        "print(\"NumPy Min, Max, Range:\", mn_np, mx_np, rng_np)\n"
      ]
    },
    {
      "cell_type": "markdown",
      "source": [
        "### Variance & Standard Deviation\n",
        "\n",
        "**Given this dataset:**  \n",
        "`data = [5, 7, 3, 7, 9, 10, 15, 7]`\n",
        "\n",
        "- **Calculate variance and standard deviation manually** (using formulas).\n",
        "- **Compare with** `numpy.var()` **and** `numpy.std()`.\n"
      ],
      "metadata": {
        "id": "neuXXOK6Nix2"
      }
    },
    {
      "cell_type": "code",
      "execution_count": 17,
      "metadata": {
        "colab": {
          "base_uri": "https://localhost:8080/"
        },
        "id": "J0ncpiyQJLeZ",
        "outputId": "1b8cab45-58ed-4351-ca35-e4a8d301f137"
      },
      "outputs": [
        {
          "output_type": "stream",
          "name": "stdout",
          "text": [
            "Manual Variance: 11.359375\n",
            "Manual Std Dev: 3.370367190678191\n",
            "NumPy Variance: 11.359375\n",
            "NumPy Std Dev: 3.370367190678191\n"
          ]
        }
      ],
      "source": [
        "arr = [5, 7, 3, 7, 9, 10, 15, 7]\n",
        "n = len(arr)\n",
        "# manually\n",
        "mean = sum(arr) / n\n",
        "v_manual = sum((x - mean) ** 2 for x in arr) / n\n",
        "std_manual = v_manual ** 0.5\n",
        "print(\"Manual Variance:\", v_manual)\n",
        "print(\"Manual Std Dev:\", std_manual)\n",
        "# using numPy\n",
        "v_np = np.var(arr)\n",
        "std_np = np.std(arr)\n",
        "print(\"NumPy Variance:\", v_np)\n",
        "print(\"NumPy Std Dev:\", std_np)\n"
      ]
    },
    {
      "cell_type": "markdown",
      "source": [
        "### Quartiles & IQR\n",
        "\n",
        "- **Using** `numpy.percentile()`, **find the** 25th, 50th, **and** 75th **percentiles for a dataset**.\n",
        "- **Then compute the Interquartile Range (IQR)**.\n"
      ],
      "metadata": {
        "id": "goS7cVVLOo5C"
      }
    },
    {
      "cell_type": "code",
      "execution_count": 18,
      "metadata": {
        "colab": {
          "base_uri": "https://localhost:8080/"
        },
        "id": "mDzinIw6JiTr",
        "outputId": "4e918a37-9fc8-4a75-9878-06df35dd83cf"
      },
      "outputs": [
        {
          "output_type": "stream",
          "name": "stdout",
          "text": [
            "Q1: 7.25 Q2: 8.5 Q3: 11.5\n",
            "IQR: 4.25\n"
          ]
        }
      ],
      "source": [
        "\n",
        "arr = [7, 8, 5, 6, 12, 15, 14, 10, 8, 9]\n",
        "\n",
        "q1 = np.percentile(arr, 25)\n",
        "q2 = np.percentile(arr, 50)\n",
        "q3 = np.percentile(arr, 75)\n",
        "\n",
        "iqr = q3 - q1\n",
        "\n",
        "print(\"Q1:\", q1, \"Q2:\", q2, \"Q3:\", q3)\n",
        "print(\"IQR:\", iqr)\n"
      ]
    },
    {
      "cell_type": "markdown",
      "source": [
        "### Z-Score Normalization\n",
        "\n",
        "- **Take any numeric list.**\n",
        "- **Write a function that converts the list into z-scores manually** (without using built-in functions for z-score).\n"
      ],
      "metadata": {
        "id": "2Fa6naVXPB4w"
      }
    },
    {
      "cell_type": "code",
      "execution_count": 19,
      "metadata": {
        "id": "ZaFQ0NBxJC3r",
        "colab": {
          "base_uri": "https://localhost:8080/"
        },
        "outputId": "1c2f2273-3b40-44ed-f192-f56f234c4939"
      },
      "outputs": [
        {
          "output_type": "stream",
          "name": "stdout",
          "text": [
            "Z-Scores: [-1.414213562373095, -0.7071067811865475, 0.0, 0.7071067811865475, 1.414213562373095]\n"
          ]
        }
      ],
      "source": [
        "def z_scores(arr):\n",
        "    n = len(arr)\n",
        "    mean = sum(arr) / n\n",
        "    std_dev = (sum((x - mean) ** 2 for x in arr) / n) ** 0.5\n",
        "    return [(x - mean) / std_dev for x in arr]\n",
        "arr = [10, 12, 14, 16, 18]\n",
        "print(\"Z-Scores:\", z_scores(arr))\n"
      ]
    },
    {
      "cell_type": "markdown",
      "source": [
        "### Moving Average\n",
        "\n",
        "- **Generate a list of 20 random integers between 1 and 100.**\n",
        "- **Compute a moving average with window size 3 using list slicing.**\n",
        "- **Compare with** `numpy.convolve()`.\n"
      ],
      "metadata": {
        "id": "B14lE14GPaXj"
      }
    },
    {
      "cell_type": "code",
      "execution_count": 20,
      "metadata": {
        "id": "TOBgfm6eJGgK",
        "colab": {
          "base_uri": "https://localhost:8080/"
        },
        "outputId": "04f1fd2d-247e-4227-bc62-b74140ab362f"
      },
      "outputs": [
        {
          "output_type": "stream",
          "name": "stdout",
          "text": [
            "[ 48  57  25  56  39  81 100  27  64  33   2  58  96  72  16  32  94  42\n",
            "  96  12]\n",
            "[np.float64(43.333333333333336), np.float64(46.0), np.float64(40.0), np.float64(58.666666666666664), np.float64(73.33333333333333), np.float64(69.33333333333333), np.float64(63.666666666666664), np.float64(41.333333333333336), np.float64(33.0), np.float64(31.0), np.float64(52.0), np.float64(75.33333333333333), np.float64(61.333333333333336), np.float64(40.0), np.float64(47.333333333333336), np.float64(56.0), np.float64(77.33333333333333), np.float64(50.0)]\n"
          ]
        }
      ],
      "source": [
        "import numpy as np\n",
        "\n",
        "arr = np.random.randint(1, 101, size=20)\n",
        "print(arr)\n",
        "n = 3\n",
        "moving_avg = [np.mean(arr[i:i+n]) for i in range(len(arr) - n + 1)]\n",
        "print(moving_avg)"
      ]
    },
    {
      "cell_type": "markdown",
      "source": [
        "### Outlier Detection (IQR Method)\n",
        "\n",
        "- **Generate a list of 25 numbers from 1–50 and add two very large numbers** (e.g., `300`, `400`).\n",
        "- **Detect outliers using IQR rules.**\n"
      ],
      "metadata": {
        "id": "IZcn_MTQQSdz"
      }
    },
    {
      "cell_type": "code",
      "execution_count": 21,
      "metadata": {
        "colab": {
          "base_uri": "https://localhost:8080/"
        },
        "id": "AmND7VasLba6",
        "outputId": "489fef75-abaa-4595-aee1-6522fe761bd6"
      },
      "outputs": [
        {
          "output_type": "stream",
          "name": "stdout",
          "text": [
            "Outliers: [300 400]\n"
          ]
        }
      ],
      "source": [
        "nums = np.array(list(range(1, 51)) + [300, 400])\n",
        "\n",
        "q1 = np.percentile(nums, 25)\n",
        "q3 = np.percentile(nums, 75)\n",
        "iqr = q3 - q1\n",
        "\n",
        "lower_bound = q1 - 1.5 * iqr\n",
        "upper_bound = q3 + 1.5 * iqr\n",
        "\n",
        "outliers = nums[(nums < lower_bound) | (nums > upper_bound)]\n",
        "\n",
        "print(\"Outliers:\", outliers)"
      ]
    }
  ],
  "metadata": {
    "colab": {
      "provenance": [],
      "mount_file_id": "1a4L201-XSYEbPC9HyqwuRs-fIXQFyTD5",
      "authorship_tag": "ABX9TyMBKTJkpWJ7ikrN3RmVqrL7",
      "include_colab_link": true
    },
    "kernelspec": {
      "display_name": "Python 3",
      "name": "python3"
    },
    "language_info": {
      "name": "python"
    }
  },
  "nbformat": 4,
  "nbformat_minor": 0
}